{
 "cells": [
  {
   "cell_type": "code",
   "execution_count": 5,
   "metadata": {},
   "outputs": [],
   "source": [
    "from os import listdir\n",
    "import os.path\n",
    "from snptools.count_variants_per_gene import process_vcf\n",
    "from snptools.genetree import make_gene_tree\n",
    "\n",
    "gene_tree = make_gene_tree()\n",
    "locus_names = sorted([ interval.data['locus'] for interval in gene_tree ])\n",
    "# print(locus_names)\n",
    "input_directory = '/home/pvh/Data/vcf/tracey'\n",
    "matrix = []\n",
    "for filename in sorted(listdir(input_directory)):\n",
    "    if filename.endswith('.vcf.gz') or filename.endswith('.vcf'):\n",
    "        path = os.path.join(input_directory, filename)\n",
    "        counts = process_vcf(path, gene_tree=gene_tree)\n",
    "        row = [ counts.get(locus, 0) for locus in locus_names ]\n",
    "        matrix.append(row)"
   ]
  },
  {
   "cell_type": "code",
   "execution_count": 6,
   "metadata": {},
   "outputs": [],
   "source": [
    "import pandas as pd"
   ]
  },
  {
   "cell_type": "code",
   "execution_count": 13,
   "metadata": {},
   "outputs": [],
   "source": [
    "sample_names = [ filename.split('.')[0] for filename in sorted(listdir(input_directory)) ]\n",
    "data = pd.DataFrame(matrix, index=sample_names, columns=locus_names)"
   ]
  },
  {
   "cell_type": "code",
   "execution_count": 14,
   "metadata": {},
   "outputs": [
    {
     "data": {
      "text/html": [
       "<div>\n",
       "<style scoped>\n",
       "    .dataframe tbody tr th:only-of-type {\n",
       "        vertical-align: middle;\n",
       "    }\n",
       "\n",
       "    .dataframe tbody tr th {\n",
       "        vertical-align: top;\n",
       "    }\n",
       "\n",
       "    .dataframe thead th {\n",
       "        text-align: right;\n",
       "    }\n",
       "</style>\n",
       "<table border=\"1\" class=\"dataframe\">\n",
       "  <thead>\n",
       "    <tr style=\"text-align: right;\">\n",
       "      <th></th>\n",
       "      <th>Rv0001</th>\n",
       "      <th>Rv0002</th>\n",
       "      <th>Rv0003</th>\n",
       "      <th>Rv0004</th>\n",
       "      <th>Rv0005</th>\n",
       "      <th>Rv0006</th>\n",
       "      <th>Rv0007</th>\n",
       "      <th>Rv0008c</th>\n",
       "      <th>Rv0009</th>\n",
       "      <th>Rv0010c</th>\n",
       "      <th>...</th>\n",
       "      <th>Rv3915</th>\n",
       "      <th>Rv3916c</th>\n",
       "      <th>Rv3917c</th>\n",
       "      <th>Rv3918c</th>\n",
       "      <th>Rv3919c</th>\n",
       "      <th>Rv3920c</th>\n",
       "      <th>Rv3921c</th>\n",
       "      <th>Rv3922c</th>\n",
       "      <th>Rv3923c</th>\n",
       "      <th>Rv3924c</th>\n",
       "    </tr>\n",
       "  </thead>\n",
       "  <tbody>\n",
       "    <tr>\n",
       "      <th>TKK-01-0007</th>\n",
       "      <td>0</td>\n",
       "      <td>0</td>\n",
       "      <td>1</td>\n",
       "      <td>0</td>\n",
       "      <td>2</td>\n",
       "      <td>3</td>\n",
       "      <td>0</td>\n",
       "      <td>1</td>\n",
       "      <td>0</td>\n",
       "      <td>0</td>\n",
       "      <td>...</td>\n",
       "      <td>0</td>\n",
       "      <td>0</td>\n",
       "      <td>0</td>\n",
       "      <td>0</td>\n",
       "      <td>0</td>\n",
       "      <td>0</td>\n",
       "      <td>0</td>\n",
       "      <td>0</td>\n",
       "      <td>0</td>\n",
       "      <td>0</td>\n",
       "    </tr>\n",
       "    <tr>\n",
       "      <th>TKK-01-0008</th>\n",
       "      <td>0</td>\n",
       "      <td>0</td>\n",
       "      <td>1</td>\n",
       "      <td>0</td>\n",
       "      <td>0</td>\n",
       "      <td>3</td>\n",
       "      <td>0</td>\n",
       "      <td>1</td>\n",
       "      <td>0</td>\n",
       "      <td>0</td>\n",
       "      <td>...</td>\n",
       "      <td>0</td>\n",
       "      <td>0</td>\n",
       "      <td>1</td>\n",
       "      <td>0</td>\n",
       "      <td>3</td>\n",
       "      <td>0</td>\n",
       "      <td>1</td>\n",
       "      <td>0</td>\n",
       "      <td>0</td>\n",
       "      <td>0</td>\n",
       "    </tr>\n",
       "    <tr>\n",
       "      <th>TKK-01-0009</th>\n",
       "      <td>1</td>\n",
       "      <td>0</td>\n",
       "      <td>1</td>\n",
       "      <td>0</td>\n",
       "      <td>0</td>\n",
       "      <td>4</td>\n",
       "      <td>0</td>\n",
       "      <td>1</td>\n",
       "      <td>0</td>\n",
       "      <td>0</td>\n",
       "      <td>...</td>\n",
       "      <td>0</td>\n",
       "      <td>0</td>\n",
       "      <td>0</td>\n",
       "      <td>0</td>\n",
       "      <td>0</td>\n",
       "      <td>0</td>\n",
       "      <td>0</td>\n",
       "      <td>0</td>\n",
       "      <td>0</td>\n",
       "      <td>0</td>\n",
       "    </tr>\n",
       "  </tbody>\n",
       "</table>\n",
       "<p>3 rows × 4018 columns</p>\n",
       "</div>"
      ],
      "text/plain": [
       "             Rv0001  Rv0002  Rv0003  Rv0004  Rv0005  Rv0006  Rv0007  Rv0008c  \\\n",
       "TKK-01-0007       0       0       1       0       2       3       0        1   \n",
       "TKK-01-0008       0       0       1       0       0       3       0        1   \n",
       "TKK-01-0009       1       0       1       0       0       4       0        1   \n",
       "\n",
       "             Rv0009  Rv0010c   ...     Rv3915  Rv3916c  Rv3917c  Rv3918c  \\\n",
       "TKK-01-0007       0        0   ...          0        0        0        0   \n",
       "TKK-01-0008       0        0   ...          0        0        1        0   \n",
       "TKK-01-0009       0        0   ...          0        0        0        0   \n",
       "\n",
       "             Rv3919c  Rv3920c  Rv3921c  Rv3922c  Rv3923c  Rv3924c  \n",
       "TKK-01-0007        0        0        0        0        0        0  \n",
       "TKK-01-0008        3        0        1        0        0        0  \n",
       "TKK-01-0009        0        0        0        0        0        0  \n",
       "\n",
       "[3 rows x 4018 columns]"
      ]
     },
     "execution_count": 14,
     "metadata": {},
     "output_type": "execute_result"
    }
   ],
   "source": [
    "data"
   ]
  },
  {
   "cell_type": "code",
   "execution_count": 15,
   "metadata": {},
   "outputs": [],
   "source": [
    "import seaborn as sns"
   ]
  },
  {
   "cell_type": "code",
   "execution_count": 10,
   "metadata": {},
   "outputs": [
    {
     "data": {
      "image/png": "[encoded data removed]",
      "text/plain": [
       "<Figure size 720x720 with 4 Axes>"
      ]
     },
     "metadata": {},
     "output_type": "display_data"
    }
   ],
   "source": [
    "heatmap = sns.clustermap(data, cmap = 'coolwarm', robust=True)"
   ]
  },
  {
   "cell_type": "code",
   "execution_count": 12,
   "metadata": {},
   "outputs": [
    {
     "data": {
      "text/plain": [
       "TKK-01-0007.annotated.vcf.gz     97\n",
       "TKK-01-0008.annotated.vcf.gz    104\n",
       "TKK-01-0009.annotated.vcf.gz    103\n",
       "dtype: int64"
      ]
     },
     "execution_count": 12,
     "metadata": {},
     "output_type": "execute_result"
    }
   ],
   "source": [
    "data.max(axis=1)"
   ]
  },
  {
   "cell_type": "code",
   "execution_count": null,
   "metadata": {},
   "outputs": [],
   "source": []
  }
 ],
 "metadata": {
  "kernelspec": {
   "display_name": "Python 3",
   "language": "python",
   "name": "python3"
  },
  "language_info": {
   "codemirror_mode": {
    "name": "ipython",
    "version": 3
   },
   "file_extension": ".py",
   "mimetype": "text/x-python",
   "name": "python",
   "nbconvert_exporter": "python",
   "pygments_lexer": "ipython3",
   "version": "3.6.5"
  }
 },
 "nbformat": 4,
 "nbformat_minor": 2
}
